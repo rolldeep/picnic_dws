{
 "cells": [
  {
   "cell_type": "code",
   "execution_count": 103,
   "metadata": {},
   "outputs": [],
   "source": [
    "import pandas as pd\n",
    "from pywms.src.db import db, PATHFILE_WMS\n",
    "from hashids import Hashids"
   ]
  },
  {
   "cell_type": "code",
   "execution_count": 104,
   "metadata": {},
   "outputs": [],
   "source": [
    "Q = \"\"\"SELECT\n",
    "\ta.id,\n",
    "\ta.product_type content_unit,\n",
    "\ta.description,\n",
    "\ttz.temperature_zone,\n",
    "\t0 shelf_life,\n",
    "\ta.\"length\" * a.\"depth\" * a.height volume_cm3,\n",
    "\ta.brutto_weight,\n",
    "\ta.unit_of_measure brutto_weight_unit,\n",
    "\tcu.consumer_unit_ean,\n",
    "    tu.trade_unit_ean content\n",
    "FROM\n",
    "\tconsumer_units cu\n",
    "LEFT JOIN trade_units tu ON\n",
    "\ttu.sku = cu.sku\n",
    "LEFT JOIN articles a on\n",
    "\ta.id = cu.sku\n",
    "left join temperature_zone tz on\n",
    "\ttz.\"group\" = a.product_type\n",
    "WHERE\n",
    "\ttemperature_zone is NOT NULL \n",
    "\tAND a.\"length\" * a.\"depth\" * a.height is NOT NULL \n",
    "\tAND a.brutto_weight is NOT NULL\n",
    "\tAND a.assortm_code = 1 ;\n",
    "    \"\"\""
   ]
  },
  {
   "cell_type": "code",
   "execution_count": 105,
   "metadata": {},
   "outputs": [],
   "source": [
    "df_base = pd.read_sql_query(Q, db)"
   ]
  },
  {
   "cell_type": "code",
   "execution_count": 106,
   "metadata": {},
   "outputs": [],
   "source": [
    "df_collapsed = df_base.groupby(['id', 'content_unit', 'description', 'temperature_zone', 'shelf_life',\n",
    "       'volume_cm3', 'brutto_weight', 'brutto_weight_unit',\n",
    "       'content']).apply(lambda x: set(x['consumer_unit_ean'].values)).reset_index()\n",
    "df_collapsed.rename(columns={0: 'ean_list'}, inplace=True)"
   ]
  },
  {
   "cell_type": "code",
   "execution_count": 107,
   "metadata": {},
   "outputs": [],
   "source": [
    "df_ambient = df_collapsed[df_collapsed['temperature_zone'] == 'ambient']\n",
    "df_chilled = df_collapsed[df_collapsed['temperature_zone'] == 'chilled']\n",
    "df_frozen  = df_collapsed[df_collapsed['temperature_zone'] == 'diepvries']"
   ]
  },
  {
   "cell_type": "code",
   "execution_count": 108,
   "metadata": {},
   "outputs": [],
   "source": [
    "df_ambient = df_ambient[df_ambient['volume_cm3'] <= 36366.0  ]\n",
    "df_chilled = df_chilled[df_chilled['volume_cm3'] <= 29092.0  ]\n",
    "df_frozen = df_frozen[df_frozen['volume_cm3'] <= 6732.0  ]\n",
    "df_union = pd.concat([df_ambient, df_chilled, df_frozen], ignore_index=True)\n",
    "# Ask data owners about mesures\n",
    "df_union['volume_mm3'] = df_union['volume_cm3'] * 1000"
   ]
  },
  {
   "cell_type": "code",
   "execution_count": 109,
   "metadata": {},
   "outputs": [],
   "source": [
    "hashids = Hashids()\n",
    "hashids = Hashids(salt='secret')\n",
    "df_union['own_sku'] = df_union['id'].apply(lambda x: hashids.encode(x))\n",
    "df_union.drop(columns=['id', 'volume_cm3'], inplace=True)\n",
    "\n",
    "# "
   ]
  },
  {
   "cell_type": "code",
   "execution_count": 112,
   "metadata": {},
   "outputs": [],
   "source": [
    "df_wms = pd.read_csv(PATHFILE_WMS, \n",
    "                    sep='\\t+', \n",
    "                    engine='python')\n",
    "df_wms.iloc[0:0]\n",
    "df_wms = pd.concat([df_wms, df_union])\n",
    "df_wms.to_csv(PATHFILE_WMS, sep='\\t')"
   ]
  },
  {
   "cell_type": "code",
   "execution_count": 102,
   "metadata": {},
   "outputs": [],
   "source": []
  }
 ],
 "metadata": {
  "kernelspec": {
   "name": "python391jvsc74a57bd0e9e6b9761d72266fa4fe7964a22fe664abfd1da6e59015372c67f0cb292f4f0e",
   "display_name": "Python 3.9.1 64-bit ('base': conda)"
  },
  "language_info": {
   "codemirror_mode": {
    "name": "ipython",
    "version": 3
   },
   "file_extension": ".py",
   "mimetype": "text/x-python",
   "name": "python",
   "nbconvert_exporter": "python",
   "pygments_lexer": "ipython3",
   "version": "3.9.1"
  },
  "metadata": {
   "interpreter": {
    "hash": "e9e6b9761d72266fa4fe7964a22fe664abfd1da6e59015372c67f0cb292f4f0e"
   }
  }
 },
 "nbformat": 4,
 "nbformat_minor": 4
}